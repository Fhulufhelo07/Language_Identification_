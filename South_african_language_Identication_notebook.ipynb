{
 "cells": [
  {
   "cell_type": "markdown",
   "id": "c64212cc",
   "metadata": {},
   "source": [
    "# South African Language Identification Hack 2023"
   ]
  },
  {
   "cell_type": "markdown",
   "id": "60238b3a",
   "metadata": {},
   "source": [
    "#### Overview"
   ]
  },
  {
   "cell_type": "markdown",
   "id": "368efc59",
   "metadata": {},
   "source": [
    "\n",
    "        South Africa is a multicultural society with rich linguistic diversity. \n",
    "        Its 11 official languages hold equal status and play crucial roles in enhancing democracy\n",
    "        and enriching various aspects of social, cultural, economic, and political life. \n",
    "        The majority of South Africans are multilingual, proficient in speaking two or more official languages."
   ]
  },
  {
   "cell_type": "markdown",
   "id": "e1e37058",
   "metadata": {},
   "source": [
    " #### Importing Libraries"
   ]
  },
  {
   "cell_type": "code",
   "execution_count": 189,
   "id": "39035d8b",
   "metadata": {},
   "outputs": [],
   "source": [
    "# Importing necessary libraries\n",
    "import pandas as pd\n",
    "import numpy as np\n",
    "from sklearn.model_selection import train_test_split\n",
    "from sklearn.feature_extraction.text import CountVectorizer, TfidfTransformer\n",
    "\n",
    "from sklearn.metrics import f1_score\n",
    "from sklearn.linear_model import LogisticRegression\n",
    "from sklearn.neighbors import KNeighborsClassifier\n",
    "from sklearn.svm import SVC\n",
    "from sklearn.naive_bayes import MultinomialNB\n",
    "from sklearn.ensemble import AdaBoostClassifier\n",
    "from sklearn.metrics import accuracy_score, classification_report\n",
    "from sklearn.linear_model import LogisticRegression\n",
    "from sklearn.model_selection import cross_val_score, cross_val_predict\n",
    "from sklearn.metrics import f1_score\n",
    "from sklearn.feature_extraction.text import CountVectorizer\n",
    "\n",
    "from langdetect import detect\n",
    "from sklearn.naive_bayes import MultinomialNB\n",
    "from sklearn.metrics import f1_score\n",
    "\n",
    "\n",
    "from sklearn.linear_model import LogisticRegression\n",
    "from sklearn.model_selection import cross_val_score, cross_val_predict\n",
    "from sklearn.metrics import f1_score\n",
    "\n",
    "from sklearn.neighbors import KNeighborsClassifier\n",
    "from sklearn.metrics import f1_score, make_scorer\n",
    "from sklearn.model_selection import cross_val_score, cross_val_predict\n",
    "\n",
    "from sklearn.metrics import precision_score, recall_score\n",
    "from sklearn.svm import SVC\n",
    "from sklearn.metrics import precision_score, recall_score, f1_score\n",
    "\n",
    "\n",
    "from sklearn.naive_bayes import MultinomialNB\n",
    "from sklearn.metrics import f1_score\n",
    "from sklearn.model_selection import cross_val_score\n",
    "\n",
    "\n",
    "from sklearn.ensemble import AdaBoostClassifier\n",
    "from sklearn.feature_extraction.text import CountVectorizer\n",
    "from sklearn.model_selection import train_test_split\n",
    "from sklearn.metrics import accuracy_score, classification_report\n",
    "\n",
    "from sklearn.svm import SVC\n",
    "from sklearn.metrics import accuracy_score, confusion_matrix\n",
    "import seaborn as sns\n",
    "import matplotlib.pyplot as plt\n",
    "\n",
    "from sklearn.tree import DecisionTreeClassifier\n",
    "from sklearn.metrics import accuracy_score, classification_report\n",
    "from sklearn.model_selection import train_test_split"
   ]
  },
  {
   "cell_type": "markdown",
   "id": "130a193f",
   "metadata": {},
   "source": [
    "#### Loading Data"
   ]
  },
  {
   "cell_type": "code",
   "execution_count": 190,
   "id": "4c805f5d",
   "metadata": {},
   "outputs": [],
   "source": [
    "train_df = pd.read_csv(r\"C:\\Users\\nengo\\Downloads\\south-african-language-identification-hack-2023\\train_set.csv\")\n",
    "test_df = pd.read_csv(r\"C:\\Users\\nengo\\Downloads\\south-african-language-identification-hack-2023\\test_set.csv\")"
   ]
  },
  {
   "cell_type": "markdown",
   "id": "5d2e8ce0",
   "metadata": {},
   "source": [
    "## Exploratory Data Analysis (EDA)"
   ]
  },
  {
   "cell_type": "code",
   "execution_count": 191,
   "id": "e1e5c00b",
   "metadata": {},
   "outputs": [
    {
     "data": {
      "text/html": [
       "<div>\n",
       "<style scoped>\n",
       "    .dataframe tbody tr th:only-of-type {\n",
       "        vertical-align: middle;\n",
       "    }\n",
       "\n",
       "    .dataframe tbody tr th {\n",
       "        vertical-align: top;\n",
       "    }\n",
       "\n",
       "    .dataframe thead th {\n",
       "        text-align: right;\n",
       "    }\n",
       "</style>\n",
       "<table border=\"1\" class=\"dataframe\">\n",
       "  <thead>\n",
       "    <tr style=\"text-align: right;\">\n",
       "      <th></th>\n",
       "      <th>lang_id</th>\n",
       "      <th>text</th>\n",
       "    </tr>\n",
       "  </thead>\n",
       "  <tbody>\n",
       "    <tr>\n",
       "      <th>0</th>\n",
       "      <td>xho</td>\n",
       "      <td>umgaqo-siseko wenza amalungiselelo kumaziko ax...</td>\n",
       "    </tr>\n",
       "    <tr>\n",
       "      <th>1</th>\n",
       "      <td>xho</td>\n",
       "      <td>i-dha iya kuba nobulumko bokubeka umsebenzi na...</td>\n",
       "    </tr>\n",
       "    <tr>\n",
       "      <th>2</th>\n",
       "      <td>eng</td>\n",
       "      <td>the province of kwazulu-natal department of tr...</td>\n",
       "    </tr>\n",
       "    <tr>\n",
       "      <th>3</th>\n",
       "      <td>nso</td>\n",
       "      <td>o netefatša gore o ba file dilo ka moka tše le...</td>\n",
       "    </tr>\n",
       "    <tr>\n",
       "      <th>4</th>\n",
       "      <td>ven</td>\n",
       "      <td>khomishini ya ndinganyiso ya mbeu yo ewa maana...</td>\n",
       "    </tr>\n",
       "  </tbody>\n",
       "</table>\n",
       "</div>"
      ],
      "text/plain": [
       "  lang_id                                               text\n",
       "0     xho  umgaqo-siseko wenza amalungiselelo kumaziko ax...\n",
       "1     xho  i-dha iya kuba nobulumko bokubeka umsebenzi na...\n",
       "2     eng  the province of kwazulu-natal department of tr...\n",
       "3     nso  o netefatša gore o ba file dilo ka moka tše le...\n",
       "4     ven  khomishini ya ndinganyiso ya mbeu yo ewa maana..."
      ]
     },
     "execution_count": 191,
     "metadata": {},
     "output_type": "execute_result"
    }
   ],
   "source": [
    "train_df.head()"
   ]
  },
  {
   "cell_type": "code",
   "execution_count": 192,
   "id": "45948da2",
   "metadata": {},
   "outputs": [
    {
     "name": "stdout",
     "output_type": "stream",
     "text": [
      "Train Dataset:\n",
      "  lang_id                                               text\n",
      "0     xho  umgaqo-siseko wenza amalungiselelo kumaziko ax...\n",
      "1     xho  i-dha iya kuba nobulumko bokubeka umsebenzi na...\n",
      "2     eng  the province of kwazulu-natal department of tr...\n",
      "3     nso  o netefatša gore o ba file dilo ka moka tše le...\n",
      "4     ven  khomishini ya ndinganyiso ya mbeu yo ewa maana...\n",
      "\n",
      "Test Dataset:\n",
      "   index                                               text\n",
      "0      1  Mmasepala, fa maemo a a kgethegileng a letlele...\n",
      "1      2  Uzakwaziswa ngokufaneleko nakungafuneka eminye...\n",
      "2      3         Tshivhumbeo tshi fana na ngano dza vhathu.\n",
      "3      4  Kube inja nelikati betingevakala kutsi titsini...\n",
      "4      5                      Winste op buitelandse valuta.\n"
     ]
    }
   ],
   "source": [
    "print(\"Train Dataset:\")\n",
    "print(train_df.head())\n",
    "\n",
    "print(\"\\nTest Dataset:\")\n",
    "print(test_df.head())"
   ]
  },
  {
   "cell_type": "markdown",
   "id": "1ec451ad",
   "metadata": {},
   "source": [
    "#### Data Preprocessing"
   ]
  },
  {
   "cell_type": "code",
   "execution_count": 193,
   "id": "2121b23a",
   "metadata": {},
   "outputs": [],
   "source": [
    "\n",
    "def preprocess_data(train_df, test_df):\n",
    "    # Initializing the Count Vectorizer\n",
    "    vectorizer = CountVectorizer()\n",
    "\n",
    "    # Fitting the vectorizer on the training data\n",
    "    vectorizer.fit(train_df['text'])\n",
    "\n",
    "    # Transforming the training and test data using the fitted vectorizer\n",
    "    train_features = vectorizer.transform(train_df['text'])\n",
    "    test_features = vectorizer.transform(test_df['text'])\n",
    "\n",
    "    return train_features, test_features, vectorizer\n"
   ]
  },
  {
   "cell_type": "code",
   "execution_count": 194,
   "id": "c83e4513",
   "metadata": {},
   "outputs": [],
   "source": [
    "train_features, test_features, vectorizer = preprocess_data(train_df, test_df)"
   ]
  },
  {
   "cell_type": "code",
   "execution_count": 195,
   "id": "95a27415",
   "metadata": {},
   "outputs": [
    {
     "name": "stdout",
     "output_type": "stream",
     "text": [
      "Text 1 is in en language.\n",
      "Text 2 is in es language.\n",
      "Text 3 is in fr language.\n",
      "Text 4 is in de language.\n",
      "Text 5 is in af language.\n",
      "Text 6 is in hr language.\n",
      "Text 7 is in sw language.\n",
      "Text 8 is in hr language.\n",
      "Text 9 is in sw language.\n",
      "Text 10 is in sw language.\n",
      "Text 11 is in sw language.\n"
     ]
    }
   ],
   "source": [
    "def identify_language(text):\n",
    "    try:\n",
    "        language = detect(text)\n",
    "        return language\n",
    "    except Exception as e:\n",
    "        print(f\"Error: {e}\")\n",
    "        return None\n",
    "\n",
    "# Example text in various languages\n",
    "texts = [\n",
    "    \"Hello, how are you?\",                    # English\n",
    "    \"¡Hola! ¿Cómo estás?\",                    # Spanish\n",
    "    \"Bonjour, comment ça va?\",                # French\n",
    "    \"Hallo, wie geht es dir?\",                # German\n",
    "    \"Hoe gaan dit met jou?\",                  # Afrikaans\n",
    "    \"Avuxeni, u njhani?\",                     # Xitsonga\n",
    "    \"Yebo, kunjani?\",                         # Zulu\n",
    "    \"Dumela, o kae?\",                         # Setswana\n",
    "    \"Lefatshe la rona le kgalwa ke wena.\",    # Sesotho\n",
    "    \"Molweni, unjani?\",                       # isiXhosa\n",
    "    \"Salibonani, unjani?\"                     # isiZulu\n",
    "]\n",
    "\n",
    "# Identifying languages for each text\n",
    "for idx, text in enumerate(texts):\n",
    "    language = identify_language(text)\n",
    "    print(f\"Text {idx + 1} is in {language} language.\")\n"
   ]
  },
  {
   "cell_type": "markdown",
   "id": "fa9e5e36",
   "metadata": {},
   "source": [
    "##  Developing, Training,  Evaluation and Validation using Different Classification Models"
   ]
  },
  {
   "cell_type": "markdown",
   "id": "8d969de0",
   "metadata": {},
   "source": [
    "#### Splitting the data"
   ]
  },
  {
   "cell_type": "code",
   "execution_count": 196,
   "id": "b572c74c",
   "metadata": {},
   "outputs": [],
   "source": [
    "## splitting the data\n",
    "X_train, X_val, y_train, y_val = train_test_split(train_features, train_df['lang_id'], test_size=0.2, random_state=42)"
   ]
  },
  {
   "cell_type": "markdown",
   "id": "f794a21d",
   "metadata": {},
   "source": [
    "## Logistics Regression Classification Model"
   ]
  },
  {
   "cell_type": "markdown",
   "id": "7e4635f7",
   "metadata": {},
   "source": [
    "#### Using Cross Validation in order to validate the model"
   ]
  },
  {
   "cell_type": "code",
   "execution_count": 200,
   "id": "3e76128b",
   "metadata": {},
   "outputs": [
    {
     "name": "stderr",
     "output_type": "stream",
     "text": [
      "C:\\Users\\nengo\\Documents\\anaconda\\Lib\\site-packages\\sklearn\\linear_model\\_logistic.py:458: ConvergenceWarning: lbfgs failed to converge (status=1):\n",
      "STOP: TOTAL NO. of ITERATIONS REACHED LIMIT.\n",
      "\n",
      "Increase the number of iterations (max_iter) or scale the data as shown in:\n",
      "    https://scikit-learn.org/stable/modules/preprocessing.html\n",
      "Please also refer to the documentation for alternative solver options:\n",
      "    https://scikit-learn.org/stable/modules/linear_model.html#logistic-regression\n",
      "  n_iter_i = _check_optimize_result(\n",
      "C:\\Users\\nengo\\Documents\\anaconda\\Lib\\site-packages\\sklearn\\linear_model\\_logistic.py:458: ConvergenceWarning: lbfgs failed to converge (status=1):\n",
      "STOP: TOTAL NO. of ITERATIONS REACHED LIMIT.\n",
      "\n",
      "Increase the number of iterations (max_iter) or scale the data as shown in:\n",
      "    https://scikit-learn.org/stable/modules/preprocessing.html\n",
      "Please also refer to the documentation for alternative solver options:\n",
      "    https://scikit-learn.org/stable/modules/linear_model.html#logistic-regression\n",
      "  n_iter_i = _check_optimize_result(\n",
      "C:\\Users\\nengo\\Documents\\anaconda\\Lib\\site-packages\\sklearn\\linear_model\\_logistic.py:458: ConvergenceWarning: lbfgs failed to converge (status=1):\n",
      "STOP: TOTAL NO. of ITERATIONS REACHED LIMIT.\n",
      "\n",
      "Increase the number of iterations (max_iter) or scale the data as shown in:\n",
      "    https://scikit-learn.org/stable/modules/preprocessing.html\n",
      "Please also refer to the documentation for alternative solver options:\n",
      "    https://scikit-learn.org/stable/modules/linear_model.html#logistic-regression\n",
      "  n_iter_i = _check_optimize_result(\n",
      "C:\\Users\\nengo\\Documents\\anaconda\\Lib\\site-packages\\sklearn\\linear_model\\_logistic.py:458: ConvergenceWarning: lbfgs failed to converge (status=1):\n",
      "STOP: TOTAL NO. of ITERATIONS REACHED LIMIT.\n",
      "\n",
      "Increase the number of iterations (max_iter) or scale the data as shown in:\n",
      "    https://scikit-learn.org/stable/modules/preprocessing.html\n",
      "Please also refer to the documentation for alternative solver options:\n",
      "    https://scikit-learn.org/stable/modules/linear_model.html#logistic-regression\n",
      "  n_iter_i = _check_optimize_result(\n",
      "C:\\Users\\nengo\\Documents\\anaconda\\Lib\\site-packages\\sklearn\\linear_model\\_logistic.py:458: ConvergenceWarning: lbfgs failed to converge (status=1):\n",
      "STOP: TOTAL NO. of ITERATIONS REACHED LIMIT.\n",
      "\n",
      "Increase the number of iterations (max_iter) or scale the data as shown in:\n",
      "    https://scikit-learn.org/stable/modules/preprocessing.html\n",
      "Please also refer to the documentation for alternative solver options:\n",
      "    https://scikit-learn.org/stable/modules/linear_model.html#logistic-regression\n",
      "  n_iter_i = _check_optimize_result(\n"
     ]
    },
    {
     "name": "stdout",
     "output_type": "stream",
     "text": [
      "Mean F1 Score (Cross-validation): 0.9953773485889361\n",
      "F1 Score on Validation Set: 0.9937882049967754\n",
      "F1 Score on Test Set: 0.9937882049967754\n"
     ]
    }
   ],
   "source": [
    "# Initialize Logistic Regression model\n",
    "linearR_model = LogisticRegression()\n",
    "\n",
    "# Train the model using the training data\n",
    "linearR_model.fit(X_train, y_train)\n",
    "\n",
    "# Perform 5-fold cross-validation and calculate F1 score\n",
    "f1_scores = cross_val_score(linearR_model, X_train, y_train, cv=5, scoring='f1_weighted')\n",
    "\n",
    "# Calculate mean F1 score from cross-validation\n",
    "mean_f1_score_cv = f1_scores.mean()\n",
    "print(\"Mean F1 Score (Cross-validation):\", mean_f1_score_cv)\n",
    "\n",
    "# Predict on the validation set (X_val)\n",
    "linearR_preds_val = linearR_model.predict(X_val)\n",
    "\n",
    "# Calculate F1 score on the validation set\n",
    "linearR_f1_val = f1_score(y_val, linearR_preds_val, average='weighted')\n",
    "print(\"F1 Score on Validation Set:\", linearR_f1_val)\n",
    "\n",
    "# Finally, predict and calculate F1 score on the test set (X_test)\n",
    "linearR_preds_test = linearR_model.predict(X_val)\n",
    "linearR_f1_test = f1_score(y_val, linearR_preds_test, average='weighted')\n",
    "print(\"F1 Score on Test Set:\", linearR_f1_test)\n"
   ]
  },
  {
   "cell_type": "code",
   "execution_count": 201,
   "id": "8740131d",
   "metadata": {},
   "outputs": [],
   "source": [
    "#Using LR_model\n",
    "# Converting the test data into TF-IDF vectors\n",
    "X_test = vectorizer.transform(test_df['text'])\n",
    "\n",
    "# Generating predictions on the best performing model\n",
    "test_predictions = linearR_model.predict(X_test) # LR model"
   ]
  },
  {
   "cell_type": "code",
   "execution_count": 202,
   "id": "d59c660b",
   "metadata": {},
   "outputs": [],
   "source": [
    "# Creating a submission dataframe with 'index' and 'lang_id' columns\n",
    "submission_df = pd.DataFrame({'index': test_df['index'], 'lang_id': test_predictions})\n",
    "\n",
    "submission_df.to_csv('FinalSub_LR.csv', index=False) # LR_model 0.7"
   ]
  },
  {
   "cell_type": "markdown",
   "id": "4998f476",
   "metadata": {},
   "source": [
    "## K Nearest Neighbors (KNN) Classification Model"
   ]
  },
  {
   "cell_type": "code",
   "execution_count": 197,
   "id": "0eba9894",
   "metadata": {},
   "outputs": [
    {
     "name": "stdout",
     "output_type": "stream",
     "text": [
      "Mean F1 Score (Cross-validation): 0.9170334709207628\n",
      "F1 Score on Validation Set: 0.9175947192684192\n",
      "F1 Score on Test Set: 0.9175947192684192\n"
     ]
    }
   ],
   "source": [
    "# Initialize KNN model\n",
    "knn_model = KNeighborsClassifier()\n",
    "\n",
    "# Define the scorer using F1 score\n",
    "scorer = make_scorer(f1_score, average='weighted')\n",
    "\n",
    "# Perform 5-fold cross-validation and calculate F1 score\n",
    "knn_f1_scores = cross_val_score(knn_model, X_train, y_train, cv=5, scoring=scorer)\n",
    "\n",
    "# Calculate mean F1 score from cross-validation\n",
    "mean_f1_score_cv = knn_f1_scores.mean()\n",
    "print(\"Mean F1 Score (Cross-validation):\", mean_f1_score_cv)\n",
    "\n",
    "# Make predictions using cross-validation (on training data)\n",
    "knn_cv_predictions = cross_val_predict(knn_model, X_train, y_train, cv=5)\n",
    "\n",
    "# Fit the model on the entire training data\n",
    "knn_model.fit(X_train, y_train)\n",
    "\n",
    "# Predict on the validation set (X_val)\n",
    "knn_val_predictions = knn_model.predict(X_val)\n",
    "\n",
    "# Calculate F1 score on the validation set\n",
    "knn_f1_val = f1_score(y_val, knn_val_predictions, average='weighted')\n",
    "print(\"F1 Score on Validation Set:\", knn_f1_val)\n",
    "\n",
    "# Finally, predict and calculate F1 score on the test set (X_test)\n",
    "knn_test_predictions = knn_model.predict(X_val)\n",
    "knn_f1_test = f1_score(y_val, knn_test_predictions, average='weighted')\n",
    "print(\"F1 Score on Test Set:\", knn_f1_test)\n"
   ]
  },
  {
   "cell_type": "code",
   "execution_count": 198,
   "id": "83f82cd4",
   "metadata": {},
   "outputs": [],
   "source": [
    "#Using Knn_model\n",
    "# Converting the test data into TF-IDF vectors\n",
    "X_test = vectorizer.transform(test_df['text'])\n",
    "\n",
    "# Generating predictions on the best performing model\n",
    "test_predictions = knn_model.predict(X_test) # knn_model"
   ]
  },
  {
   "cell_type": "code",
   "execution_count": 199,
   "id": "4e328493",
   "metadata": {},
   "outputs": [],
   "source": [
    "# Creating a submission dataframe with 'index' and 'lang_id' columns\n",
    "submission_df = pd.DataFrame({'index': test_df['index'], 'lang_id': test_predictions})\n",
    "\n",
    "submission_df.to_csv('FinalSub3.csv', index=False) # knn_model"
   ]
  },
  {
   "cell_type": "markdown",
   "id": "3914067c",
   "metadata": {},
   "source": [
    "## Support Vector Machine Classification Model\n"
   ]
  },
  {
   "cell_type": "code",
   "execution_count": 203,
   "id": "a54f6392",
   "metadata": {},
   "outputs": [
    {
     "name": "stdout",
     "output_type": "stream",
     "text": [
      "SVM Precision: 0.9915448909368751\n",
      "SVM Recall: 0.9915151515151515\n",
      "SVM F1 Score: 0.9915204291200247\n"
     ]
    }
   ],
   "source": [
    "from sklearn.metrics import precision_score, recall_score\n",
    "from sklearn.svm import SVC\n",
    "from sklearn.metrics import precision_score, recall_score, f1_score\n",
    "\n",
    "# Initialize SVM classifier\n",
    "svm = SVC()\n",
    "\n",
    "# Train the SVM model using the training data\n",
    "svm.fit(X_train, y_train)\n",
    "\n",
    "# Make predictions on the validation set (X_val)\n",
    "svm_predictions = svm.predict(X_val)\n",
    "\n",
    "# Calculate precision, recall, and F1 score\n",
    "precision = precision_score(y_val, svm_predictions, average='weighted')\n",
    "recall = recall_score(y_val, svm_predictions, average='weighted')\n",
    "svm_f1 = f1_score(y_val, svm_predictions, average='weighted')\n",
    "\n",
    "print(\"SVM Precision:\", precision)\n",
    "print(\"SVM Recall:\", recall)\n",
    "print(\"SVM F1 Score:\", svm_f1)\n"
   ]
  },
  {
   "cell_type": "code",
   "execution_count": 204,
   "id": "631663c8",
   "metadata": {},
   "outputs": [
    {
     "name": "stdout",
     "output_type": "stream",
     "text": [
      "Accuracy: 0.9915151515151515\n"
     ]
    },
    {
     "data": {
      "image/png": "[encoded data removed]",
      "text/plain": [
       "<Figure size 800x600 with 1 Axes>"
      ]
     },
     "metadata": {},
     "output_type": "display_data"
    }
   ],
   "source": [
    "# Initialize SVM classifier \n",
    "svm_classifier = SVC(kernel='rbf', C=1.0, gamma='scale')  \n",
    "\n",
    "svm_classifier.fit(X_train, y_train)\n",
    "\n",
    "# Evaluate the model\n",
    "accuracy = accuracy_score(y_val, svm_predictions)\n",
    "print(f\"Accuracy: {accuracy}\")\n",
    "\n",
    "# Create a confusion matrix\n",
    "conf_matrix = confusion_matrix(y_val, svm_predictions)\n",
    "\n",
    "# Display the confusion matrix using a heatmap\n",
    "plt.figure(figsize=(8, 6))\n",
    "sns.heatmap(conf_matrix, annot=True, cmap='Blues', fmt='g', cbar=False)\n",
    "plt.xlabel('Predicted')\n",
    "plt.ylabel('Actual')\n",
    "plt.title('Confusion Matrix')\n",
    "plt.show()"
   ]
  },
  {
   "cell_type": "code",
   "execution_count": 205,
   "id": "4cd3ed95",
   "metadata": {},
   "outputs": [],
   "source": [
    "#Using svm_model\n",
    "# Converting the test data into TF-IDF vectors\n",
    "X_test = vectorizer.transform(test_df['text'])\n",
    "\n",
    "# Generating predictions on the best performing model\n",
    "test_predictions = svm.predict(X_test) # svm model"
   ]
  },
  {
   "cell_type": "code",
   "execution_count": 206,
   "id": "18917203",
   "metadata": {},
   "outputs": [],
   "source": [
    "# Creating a submission dataframe with 'index' and 'lang_id' columns\n",
    "submission_df = pd.DataFrame({'index': test_df['index'], 'lang_id': test_predictions})\n",
    "\n",
    "submission_df.to_csv('FinalSub2_svm_model.csv', index=False) #svm model"
   ]
  },
  {
   "cell_type": "markdown",
   "id": "d655a2df",
   "metadata": {},
   "source": [
    "##  Building the Multinomial Naive Bayes Model\n"
   ]
  },
  {
   "cell_type": "code",
   "execution_count": 210,
   "id": "21f05138",
   "metadata": {},
   "outputs": [
    {
     "name": "stdout",
     "output_type": "stream",
     "text": [
      "Naive Bayes F1 Score: 0.9989392771541917\n",
      "Mean F1 Score (Cross-validation): 0.9992427428179687\n"
     ]
    }
   ],
   "source": [
    "# Initialize Multinomial Naive Bayes model\n",
    "nb = MultinomialNB()\n",
    "\n",
    "#Train Moddel\n",
    "nb.fit(X_train, y_train)\n",
    "\n",
    "# Make predictions on the validation set\n",
    "nb_predictions = nb.predict(X_val)\n",
    "\n",
    "# Calculate F1 score on the validation set\n",
    "nb_f1 = f1_score(y_val, nb_predictions, average='weighted')\n",
    "print(\"Naive Bayes F1 Score:\", nb_f1)\n",
    "# Perform 5-fold cross-validation and calculate F1 score\n",
    "f1_scores_cv = cross_val_score(nb, X_train, y_train, cv=5, scoring='f1_weighted')\n",
    "\n",
    "# Calculate mean F1 score from cross-validation\n",
    "mean_f1_score_cv = f1_scores_cv.mean()\n",
    "print(\"Mean F1 Score (Cross-validation):\", mean_f1_score_cv)"
   ]
  },
  {
   "cell_type": "markdown",
   "id": "461c2e9a",
   "metadata": {},
   "source": [
    "#### Generate predictions on the test set"
   ]
  },
  {
   "cell_type": "code",
   "execution_count": 211,
   "id": "44da191f",
   "metadata": {},
   "outputs": [],
   "source": [
    "#Using nb Model\n",
    "# Converting the test data into TF-IDF vectors\n",
    "X_test = vectorizer.transform(test_df['text'])\n",
    "\n",
    "# Generating predictions on the best performing model\n",
    "test_predictions = nb.predict(X_test)"
   ]
  },
  {
   "cell_type": "markdown",
   "id": "0692bee2",
   "metadata": {},
   "source": [
    "#### Creating a csv for submission\n"
   ]
  },
  {
   "cell_type": "code",
   "execution_count": 212,
   "id": "9cbbdee4",
   "metadata": {},
   "outputs": [],
   "source": [
    "# Creating a submission dataframe with 'index' and 'lang_id' columns\n",
    "submission_df = pd.DataFrame({'index': test_df['index'], 'lang_id': test_predictions})\n",
    "\n",
    "submission_df.to_csv('FinalSub1_nb_model.csv', index=False) #nb model"
   ]
  },
  {
   "cell_type": "markdown",
   "id": "0d0bac38",
   "metadata": {},
   "source": [
    "## Decision Tree Classification Model"
   ]
  },
  {
   "cell_type": "code",
   "execution_count": 213,
   "id": "d61602d0",
   "metadata": {},
   "outputs": [
    {
     "name": "stdout",
     "output_type": "stream",
     "text": [
      "Accuracy: 0.9484848484848485\n",
      "Classification Report:\n",
      "              precision    recall  f1-score   support\n",
      "\n",
      "         afr       0.99      0.99      0.99       583\n",
      "         eng       0.99      1.00      0.99       615\n",
      "         nbl       0.90      0.88      0.89       583\n",
      "         nso       1.00      0.96      0.98       625\n",
      "         sot       0.97      0.99      0.98       618\n",
      "         ssw       0.87      0.90      0.88       584\n",
      "         tsn       0.96      0.98      0.97       598\n",
      "         tso       0.98      0.99      0.99       561\n",
      "         ven       1.00      0.99      0.99       634\n",
      "         xho       0.93      0.88      0.91       609\n",
      "         zul       0.84      0.87      0.86       590\n",
      "\n",
      "    accuracy                           0.95      6600\n",
      "   macro avg       0.95      0.95      0.95      6600\n",
      "weighted avg       0.95      0.95      0.95      6600\n",
      "\n"
     ]
    }
   ],
   "source": [
    "# Initialize the Decision Tree Classifier\n",
    "decision_tree = DecisionTreeClassifier(random_state=42)\n",
    "\n",
    "# Train the Decision Tree Classifier\n",
    "decision_tree.fit(X_train, y_train)\n",
    "\n",
    "# Predict on the test set\n",
    "predictions = decision_tree.predict(X_val)\n",
    "\n",
    "# Calculate accuracy\n",
    "accuracy = accuracy_score(y_val, predictions)\n",
    "print(\"Accuracy:\", accuracy)\n",
    "\n",
    "# Generate a classification report\n",
    "print(\"Classification Report:\")\n",
    "print(classification_report(y_val, predictions))"
   ]
  },
  {
   "cell_type": "code",
   "execution_count": 214,
   "id": "0dfd73d2",
   "metadata": {},
   "outputs": [],
   "source": [
    "#Using nb Model\n",
    "# Converting the test data into TF-IDF vectors\n",
    "X_test = vectorizer.transform(test_df['text'])\n",
    "\n",
    "# Generating predictions on the best performing model\n",
    "test_predictions = decision_tree.predict(X_test)"
   ]
  },
  {
   "cell_type": "code",
   "execution_count": 216,
   "id": "8c6577ea",
   "metadata": {},
   "outputs": [],
   "source": [
    "# Creating a submission dataframe with 'index' and 'lang_id' columns\n",
    "submission_df = pd.DataFrame({'index': test_df['index'], 'lang_id': test_predictions})\n",
    "\n",
    "submission_df.to_csv('Decision_Tree.csv', index=False) #Decision Tree"
   ]
  },
  {
   "cell_type": "markdown",
   "id": "3ba3ca46",
   "metadata": {},
   "source": [
    "## AdaBoost Classification Model"
   ]
  },
  {
   "cell_type": "code",
   "execution_count": 217,
   "id": "caa9037b",
   "metadata": {},
   "outputs": [
    {
     "name": "stdout",
     "output_type": "stream",
     "text": [
      "Accuracy: 0.5677272727272727\n",
      "Classification Report:\n",
      "              precision    recall  f1-score   support\n",
      "\n",
      "         afr       0.99      0.99      0.99       583\n",
      "         eng       0.98      1.00      0.99       615\n",
      "         nbl       0.46      0.06      0.11       583\n",
      "         nso       0.41      0.96      0.57       625\n",
      "         sot       0.99      0.62      0.76       618\n",
      "         ssw       0.26      0.93      0.40       584\n",
      "         tsn       0.37      0.04      0.07       598\n",
      "         tso       0.83      0.53      0.65       561\n",
      "         ven       0.79      0.98      0.88       634\n",
      "         xho       0.43      0.08      0.14       609\n",
      "         zul       0.00      0.00      0.00       590\n",
      "\n",
      "    accuracy                           0.57      6600\n",
      "   macro avg       0.59      0.56      0.51      6600\n",
      "weighted avg       0.59      0.57      0.51      6600\n",
      "\n"
     ]
    }
   ],
   "source": [
    "# Assuming train_df contains 'text' column and 'lang_id' as the target variable\n",
    "X_train, X_test, y_train, y_test = train_test_split(train_df['text'], train_df['lang_id'], test_size=0.2, random_state=42)\n",
    "\n",
    "# Initialize and fit the CountVectorizer on the training text data\n",
    "vectorizer = CountVectorizer()\n",
    "X_train_vectorized = vectorizer.fit_transform(X_train)\n",
    "\n",
    "# Initialize the AdaBoost Classifier\n",
    "adaboost_clf = AdaBoostClassifier(random_state=42)\n",
    "\n",
    "# Train the AdaBoost Classifier\n",
    "adaboost_clf.fit(X_train_vectorized, y_train)\n",
    "\n",
    "# Transform the test data using the same vectorizer\n",
    "X_test_vectorized = vectorizer.transform(X_test)\n",
    "\n",
    "# Predict on the test set\n",
    "test_predictions = adaboost_clf.predict(X_test_vectorized)\n",
    "\n",
    "# Calculate accuracy\n",
    "accuracy = accuracy_score(y_test, test_predictions)\n",
    "print(\"Accuracy:\", accuracy)\n",
    "\n",
    "# Generate a classification report\n",
    "print(\"Classification Report:\")\n",
    "print(classification_report(y_test, test_predictions))"
   ]
  },
  {
   "cell_type": "code",
   "execution_count": 218,
   "id": "3d88835b",
   "metadata": {},
   "outputs": [],
   "source": [
    "#Using AdaBoost classifier Model \n",
    "# Converting the test data into TF-IDF vectors\n",
    "X_test = vectorizer.transform(test_df['text'])\n",
    "\n",
    "# Generating predictions on the best performing model\n",
    "test_predictions = adaboost_clf.predict(X_test) "
   ]
  },
  {
   "cell_type": "code",
   "execution_count": 219,
   "id": "3910b2fe",
   "metadata": {},
   "outputs": [],
   "source": [
    "# Creating a submission dataframe with 'index' and 'lang_id' columns\n",
    "submission_df = pd.DataFrame({'index': test_df['index'], 'lang_id': test_predictions})\n",
    "\n",
    "submission_df.to_csv('FinalSub6_AdaBoost.csv', index=False) #AdaBoost"
   ]
  },
  {
   "cell_type": "code",
   "execution_count": null,
   "id": "5b826f68",
   "metadata": {},
   "outputs": [],
   "source": []
  }
 ],
 "metadata": {
  "kernelspec": {
   "display_name": "Python 3 (ipykernel)",
   "language": "python",
   "name": "python3"
  },
  "language_info": {
   "codemirror_mode": {
    "name": "ipython",
    "version": 3
   },
   "file_extension": ".py",
   "mimetype": "text/x-python",
   "name": "python",
   "nbconvert_exporter": "python",
   "pygments_lexer": "ipython3",
   "version": "3.11.3"
  }
 },
 "nbformat": 4,
 "nbformat_minor": 5
}
